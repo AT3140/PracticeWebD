{
 "cells": [
  {
   "cell_type": "code",
   "execution_count": 9,
   "metadata": {},
   "outputs": [
    {
     "name": "stdout",
     "output_type": "stream",
     "text": [
      "False\n",
      "True\n"
     ]
    }
   ],
   "source": [
    "a = 'abc'\n",
    "print(a is str)\n",
    "print(isinstance(a,str))\n",
    "# use isinstance instead"
   ]
  },
  {
   "cell_type": "code",
   "execution_count": 29,
   "metadata": {},
   "outputs": [
    {
     "name": "stdout",
     "output_type": "stream",
     "text": [
      "1\n",
      "8\n",
      "1\n",
      "8\n",
      "2\n",
      "1\n"
     ]
    }
   ],
   "source": [
    "# studying a string\n",
    "a = 'abc : ddbcef'\n",
    "print(a.find('bc')) # leftmost\n",
    "print(a.rfind('bc')) # rightmost\n",
    "print(a.index('bc')) # raises ValueError if not found\n",
    "print(a.rindex('bc'))\n",
    "print(a.count('d')) # only non-overlapping substrings\n",
    "print(a[4:7].count('d'))"
   ]
  },
  {
   "cell_type": "code",
   "execution_count": 80,
   "metadata": {},
   "outputs": [
    {
     "name": "stdout",
     "output_type": "stream",
     "text": [
      "e Hello\n",
      "The hello world\n",
      "The Hello world\n",
      "the hello world\n",
      "tHE hELLO WORLD\n",
      "['The', 'Hello world']\n",
      "['Th', ' H', 'llo world']\n",
      "['The Hello', 'world']\n",
      "Teh Hello world\n",
      "Th1 H1223 w3r2d\n"
     ]
    }
   ],
   "source": [
    "#String Manipulation\n",
    "a = 'The Hello world'\n",
    "print(a[2:9])\n",
    "b = a.capitalize()\n",
    "print(b)\n",
    "b = a.upper()\n",
    "print(a)\n",
    "b = a.lower()\n",
    "print(b)\n",
    "b = a.swapcase()\n",
    "print(b)\n",
    "b = a.split(maxsplit=1)\n",
    "print(b)\n",
    "b = a.split('e')\n",
    "print(b)\n",
    "b = a.rsplit(maxsplit=1)\n",
    "print(b)\n",
    "b = a.replace('he', 'eh')\n",
    "print(b)\n",
    "tranlation_table = {ord('e') : '1', ord('l'): '2', ord('o') : '3'}\n",
    "b = a.translate(tranlation_table)\n",
    "print(b)\n",
    "# c = ' Ima'\n",
    "# b = b.join(c) # research this\n",
    "# print(b)"
   ]
  },
  {
   "cell_type": "code",
   "execution_count": 20,
   "metadata": {},
   "outputs": [
    {
     "name": "stdout",
     "output_type": "stream",
     "text": [
      "2\n",
      "True\n"
     ]
    }
   ],
   "source": [
    "# string to int\n",
    "a = '2'\n",
    "b = int(a) # note atoi is deprecated\n",
    "print(b)\n",
    "print(isinstance(b, int))"
   ]
  },
  {
   "cell_type": "code",
   "execution_count": 74,
   "metadata": {},
   "outputs": [
    {
     "name": "stdout",
     "output_type": "stream",
     "text": [
      "start The hello world    end\n",
      "startThe hello world    end\n",
      "start The hello worldend\n",
      "startThe hello worldend\n",
      "start The hello world                     end\n",
      "start                  The hello world    end\n",
      "start          The hello world            end\n",
      "start00 The hello world    end\n"
     ]
    }
   ],
   "source": [
    "# String Cleaning\n",
    "a = ' The hello world    '\n",
    "print('start' + a + 'end')\n",
    "b = a.lstrip()\n",
    "print('start' + b + 'end')\n",
    "b = a.rstrip()\n",
    "print('start' + b + 'end')\n",
    "b = a.strip()\n",
    "print('start' + b + 'end')\n",
    "b = a.ljust(len(a) + 17)\n",
    "print('start' + b + 'end')\n",
    "b = a.rjust(len(a) + 17)\n",
    "print('start' + b + 'end')\n",
    "b = a.center(len(a)+ 17)\n",
    "print('start' + b + 'end')\n",
    "b = a.zfill(len(a) + 2)\n",
    "print('start' + b + 'end')"
   ]
  },
  {
   "cell_type": "code",
   "execution_count": 82,
   "metadata": {},
   "outputs": [
    {
     "name": "stdout",
     "output_type": "stream",
     "text": [
      "abcdef\n"
     ]
    }
   ],
   "source": [
    "s = 'abc'\n",
    "d = 'def'\n",
    "s += d\n",
    "print(s)"
   ]
  },
  {
   "cell_type": "code",
   "execution_count": null,
   "metadata": {},
   "outputs": [],
   "source": []
  }
 ],
 "metadata": {
  "kernelspec": {
   "display_name": "vsem",
   "language": "python",
   "name": "vsem"
  },
  "language_info": {
   "codemirror_mode": {
    "name": "ipython",
    "version": 3
   },
   "file_extension": ".py",
   "mimetype": "text/x-python",
   "name": "python",
   "nbconvert_exporter": "python",
   "pygments_lexer": "ipython3",
   "version": "3.11.5"
  }
 },
 "nbformat": 4,
 "nbformat_minor": 2
}
