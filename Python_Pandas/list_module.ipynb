{
 "cells": [
  {
   "cell_type": "code",
   "execution_count": 121,
   "metadata": {},
   "outputs": [
    {
     "data": {
      "text/plain": [
       "[10, 8, 6, 4, 2]"
      ]
     },
     "execution_count": 121,
     "metadata": {},
     "output_type": "execute_result"
    }
   ],
   "source": [
    "# list comprehension\n",
    "l = [x for x in range(10, 1, -2)]\n",
    "l"
   ]
  },
  {
   "cell_type": "code",
   "execution_count": 123,
   "metadata": {},
   "outputs": [
    {
     "name": "stdout",
     "output_type": "stream",
     "text": [
      "[10, 8, 4, 2, 6]\n"
     ]
    }
   ],
   "source": [
    "# jumble the list\n",
    "from random import random\n",
    "import math\n",
    "for i in range(len(l)-1, 0, -1):\n",
    "    j = math.floor(random() * i)\n",
    "    l[i], l[j] = l[j], l[i] #swap\n",
    "print(l)"
   ]
  },
  {
   "cell_type": "code",
   "execution_count": 125,
   "metadata": {},
   "outputs": [
    {
     "name": "stdout",
     "output_type": "stream",
     "text": [
      "[8, 4, 2, 6]\n",
      "[8, 4, 2, 6, 5, 2, 3]\n",
      "[8, 4, 2, 6, 5, 2, 3, 8]\n",
      "[8, 4, 2, 5, 6, 5, 2, 3, 8]\n",
      "[8, 4, 2, 5, 6, 5, 2, 3, 8]\n"
     ]
    }
   ],
   "source": [
    "# adding elements in list\n",
    "l1 = [5,2,3]\n",
    "print(l)\n",
    "l.extend(l1)\n",
    "print(l)\n",
    "l.append(8)\n",
    "print(l)\n",
    "l.insert(3,5)\n",
    "print(l)\n",
    "# copying list\n",
    "l1 = l.copy()\n",
    "l1 = l[:]\n",
    "print(l1)"
   ]
  },
  {
   "cell_type": "code",
   "execution_count": 126,
   "metadata": {},
   "outputs": [
    {
     "name": "stdout",
     "output_type": "stream",
     "text": [
      "[8, 4, 2, 5, 6, 5, 2, 3, 8]\n",
      "[8, 4, 2, 5, 6, 5, 2, 3]\n",
      "[8, 4, 5, 6, 5, 2, 3]\n",
      "[4, 5, 6, 5, 2, 3]\n"
     ]
    }
   ],
   "source": [
    "# remove \n",
    "print(l)\n",
    "l.pop()\n",
    "print(l)\n",
    "l.pop(2)\n",
    "print(l)\n",
    "if 8 in l:\n",
    "    l.remove(8)\n",
    "print(l)\n",
    "#l.clear()\n",
    "#print(l)"
   ]
  },
  {
   "cell_type": "code",
   "execution_count": 133,
   "metadata": {},
   "outputs": [
    {
     "name": "stdout",
     "output_type": "stream",
     "text": [
      "[4, 5, 6, 5, 2, 3]\n",
      "6\n",
      "[5, 6]\n",
      "True\n",
      "4\n",
      "2\n"
     ]
    }
   ],
   "source": [
    "# studying a list\n",
    "print(l)\n",
    "print(len(l))\n",
    "print(l[1:3])\n",
    "print(2 in l)\n",
    "print(l.index(2))\n",
    "print(l.count(5))"
   ]
  },
  {
   "cell_type": "code",
   "execution_count": 134,
   "metadata": {},
   "outputs": [
    {
     "name": "stdout",
     "output_type": "stream",
     "text": [
      "[4, 5, 6, 5, 2, 3]\n",
      "[3, 2, 5, 6, 5, 4]\n",
      "[2, 3, 4, 5, 5, 6]\n"
     ]
    }
   ],
   "source": [
    "# list manipulation\n",
    "print(l)\n",
    "l.reverse()\n",
    "print(l)\n",
    "l.sort()\n",
    "print(l)"
   ]
  },
  {
   "cell_type": "code",
   "execution_count": null,
   "metadata": {},
   "outputs": [],
   "source": []
  }
 ],
 "metadata": {
  "kernelspec": {
   "display_name": "vsem",
   "language": "python",
   "name": "vsem"
  },
  "language_info": {
   "codemirror_mode": {
    "name": "ipython",
    "version": 3
   },
   "file_extension": ".py",
   "mimetype": "text/x-python",
   "name": "python",
   "nbconvert_exporter": "python",
   "pygments_lexer": "ipython3",
   "version": "3.11.5"
  }
 },
 "nbformat": 4,
 "nbformat_minor": 2
}
