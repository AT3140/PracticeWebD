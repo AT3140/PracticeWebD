{
 "cells": [
  {
   "cell_type": "code",
   "execution_count": 32,
   "metadata": {},
   "outputs": [
    {
     "data": {
      "text/plain": [
       "{1, 3, 4, 7, 9, 11, 17, 18}"
      ]
     },
     "execution_count": 32,
     "metadata": {},
     "output_type": "execute_result"
    }
   ],
   "source": [
    "# set update\n",
    "s = {1,4,3,7,7,9}\n",
    "s1 = {11,17}\n",
    "s.add(18)\n",
    "s.update(s1)\n",
    "s"
   ]
  },
  {
   "cell_type": "code",
   "execution_count": 33,
   "metadata": {},
   "outputs": [
    {
     "data": {
      "text/plain": [
       "set()"
      ]
     },
     "execution_count": 33,
     "metadata": {},
     "output_type": "execute_result"
    }
   ],
   "source": [
    "# set remove\n",
    "s.pop()\n",
    "s.remove(11)\n",
    "s.discard(18)\n",
    "s.difference_update(s1)\n",
    "s.clear()\n",
    "s"
   ]
  },
  {
   "cell_type": "code",
   "execution_count": 34,
   "metadata": {},
   "outputs": [
    {
     "data": {
      "text/plain": [
       "{3, 4, 5, 6}"
      ]
     },
     "execution_count": 34,
     "metadata": {},
     "output_type": "execute_result"
    }
   ],
   "source": [
    "# set union, intersection, difference\n",
    "s1 = {1,2,3,4}\n",
    "s2 = {3,4,5,6}\n",
    "s1.union(s2) # s1 | s2\n",
    "s1.update(s2) # s1 |= s2\n",
    "s1.intersection(s2) # s1 & s2\n",
    "s1.intersection_update(s2) #s1 &= s2\n",
    "s1.difference(s2) # s1 - s2\n",
    "s1.difference_update(s2) # s1 -= s2\n",
    "s1.symmetric_difference(s2) # s1 ^ s2\n",
    "s1.symmetric_difference_update(s2) # s1 ^= s2\n",
    "s1"
   ]
  },
  {
   "cell_type": "code",
   "execution_count": 35,
   "metadata": {},
   "outputs": [
    {
     "name": "stdout",
     "output_type": "stream",
     "text": [
      "{1, 2, 4}\n",
      "{'abc'}\n",
      "True\n",
      "True\n"
     ]
    }
   ],
   "source": [
    "# distribute s into s1 and s2 such s1 is all int and s2 is all str\n",
    "s = {2,4,1,'abc'}\n",
    "s1 = set()\n",
    "s2 = set()\n",
    "for i in s:\n",
    "    if isinstance(i,int):\n",
    "        s1.add(i)\n",
    "    elif isinstance(i,str):\n",
    "        s2.add(i)\n",
    "print(s1)\n",
    "print(s2)\n",
    "\n",
    "#fast membership test\n",
    "print(1 in s1)\n",
    "print('abc' in s2)"
   ]
  },
  {
   "cell_type": "code",
   "execution_count": 36,
   "metadata": {},
   "outputs": [
    {
     "data": {
      "text/plain": [
       "{1, 2, 4, 'abc'}"
      ]
     },
     "execution_count": 36,
     "metadata": {},
     "output_type": "execute_result"
    }
   ],
   "source": [
    "# set comprehension\n",
    "s1 = {x for x in s}\n",
    "s1"
   ]
  },
  {
   "cell_type": "code",
   "execution_count": 37,
   "metadata": {},
   "outputs": [
    {
     "data": {
      "text/plain": [
       "{'a', 'b', 'd', 'e', 'f'}"
      ]
     },
     "execution_count": 37,
     "metadata": {},
     "output_type": "execute_result"
    }
   ],
   "source": [
    "a = 'abdef'\n",
    "a = set(a)\n",
    "a"
   ]
  },
  {
   "cell_type": "code",
   "execution_count": null,
   "metadata": {},
   "outputs": [],
   "source": []
  }
 ],
 "metadata": {
  "kernelspec": {
   "display_name": "vsem",
   "language": "python",
   "name": "vsem"
  },
  "language_info": {
   "codemirror_mode": {
    "name": "ipython",
    "version": 3
   },
   "file_extension": ".py",
   "mimetype": "text/x-python",
   "name": "python",
   "nbconvert_exporter": "python",
   "pygments_lexer": "ipython3",
   "version": "3.11.5"
  }
 },
 "nbformat": 4,
 "nbformat_minor": 2
}
