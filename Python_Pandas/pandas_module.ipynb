{
 "cells": [
  {
   "cell_type": "code",
   "execution_count": 212,
   "metadata": {},
   "outputs": [],
   "source": [
    "import pandas as pd"
   ]
  },
  {
   "cell_type": "code",
   "execution_count": 213,
   "metadata": {},
   "outputs": [],
   "source": [
    "df = pd.read_csv('data.csv')"
   ]
  },
  {
   "cell_type": "code",
   "execution_count": 214,
   "metadata": {},
   "outputs": [
    {
     "name": "stdout",
     "output_type": "stream",
     "text": [
      "   id name\n",
      "0   1  abc\n",
      "1   2  def\n",
      "2   3  ghi\n",
      "3   4  jkl\n",
      "   id name\n",
      "0   1  abc\n",
      "1   2  def\n",
      "2   3  ghi\n"
     ]
    }
   ],
   "source": [
    "# CREATE table <> (<> <>, <> <>);\n",
    "df1 = pd.DataFrame({'id' : [1, 2, 3, 4], 'name' : ['abc', 'def', 'ghi', 'jkl']})\n",
    "df2 = pd.DataFrame([[1, 'abc'], [2, 'def'], [3,'ghi']], columns = ['id','name'])\n",
    "print(df1)\n",
    "print(df2)  "
   ]
  },
  {
   "cell_type": "code",
   "execution_count": 215,
   "metadata": {},
   "outputs": [
    {
     "name": "stdout",
     "output_type": "stream",
     "text": [
      "   score2    Product  Quantity  Price  score1        Date  score  rating\n",
      "0       3  Product A        10  25.99       3  2023-08-01      3       8\n",
      "1       4  Product B         5  12.49       4  2023-08-01      4       4\n",
      "2       5  Product A         7  25.99       5  2023-08-02      5       5\n",
      "3       2  Product C         3   9.99       2  2023-08-02      2       6\n",
      "4       1  Product B         8  12.49       1  2023-08-03      1       7\n",
      "5       9  Product A        12  25.99       9  2023-08-03      9       6\n",
      "6       5  Product C         4   9.99       5  2023-08-04      5       4\n",
      "     Product  Quantity  Price        Date\n",
      "0  Product A        10  25.99  2023-08-01\n",
      "1  Product B         5  12.49  2023-08-01\n",
      "2  Product A         7  25.99  2023-08-02\n",
      "3  Product C         3   9.99  2023-08-02\n",
      "4  Product B         8  12.49  2023-08-03\n",
      "5  Product A        12  25.99  2023-08-03\n",
      "6  Product C         4   9.99  2023-08-04\n",
      "     Product  Quantity   Cost        Date\n",
      "0  Product A        10  25.99  2023-08-01\n",
      "1  Product B         5  12.49  2023-08-01\n",
      "2  Product A         7  25.99  2023-08-02\n",
      "3  Product C         3   9.99  2023-08-02\n",
      "4  Product B         8  12.49  2023-08-03\n",
      "5  Product A        12  25.99  2023-08-03\n",
      "6  Product C         4   9.99  2023-08-04\n"
     ]
    }
   ],
   "source": [
    "# ALTER Table <tablename> ADD COLUMN <> <>\n",
    "df.insert(len(df.columns), 'score', [3,4,5,2,1,9,5])\n",
    "df['rating'] = [8,4,5,6,7,6,4]\n",
    "# ALTER Table <tablename> ADD COLUMN <> <> AFTER <>;\n",
    "df.insert(loc = df.columns.get_loc('Price') + 1, column = 'score1', value = [3,4,5,2,1,9,5])\n",
    "# ALTER Table <tablename> ADD COLUMN <> <> FIRST;\n",
    "df.insert(loc = 0, column = 'score2', value = [3,4,5,2,1,9,5])\n",
    "print(df)\n",
    "# ALTER Table <tablename> DROP COLUMN <>;\n",
    "df.drop(columns = ['score', 'rating', 'score1', 'score2'], inplace = True)\n",
    "print(df)\n",
    "# ALTER TABLE klm RENAME COLUMN Price to Cost\n",
    "df.rename(columns = {'Price' : 'Cost'}, inplace = True)\n",
    "print(df)"
   ]
  },
  {
   "cell_type": "code",
   "execution_count": 216,
   "metadata": {},
   "outputs": [
    {
     "data": {
      "text/html": [
       "<div>\n",
       "<style scoped>\n",
       "    .dataframe tbody tr th:only-of-type {\n",
       "        vertical-align: middle;\n",
       "    }\n",
       "\n",
       "    .dataframe tbody tr th {\n",
       "        vertical-align: top;\n",
       "    }\n",
       "\n",
       "    .dataframe thead th {\n",
       "        text-align: right;\n",
       "    }\n",
       "</style>\n",
       "<table border=\"1\" class=\"dataframe\">\n",
       "  <thead>\n",
       "    <tr style=\"text-align: right;\">\n",
       "      <th></th>\n",
       "      <th>Product</th>\n",
       "      <th>Quantity</th>\n",
       "      <th>Cost</th>\n",
       "      <th>Date</th>\n",
       "    </tr>\n",
       "  </thead>\n",
       "  <tbody>\n",
       "    <tr>\n",
       "      <th>0</th>\n",
       "      <td>Product A</td>\n",
       "      <td>10</td>\n",
       "      <td>25.99</td>\n",
       "      <td>2023-08-01</td>\n",
       "    </tr>\n",
       "    <tr>\n",
       "      <th>1</th>\n",
       "      <td>Product B</td>\n",
       "      <td>6</td>\n",
       "      <td>12.49</td>\n",
       "      <td>2023-08-01</td>\n",
       "    </tr>\n",
       "    <tr>\n",
       "      <th>2</th>\n",
       "      <td>Product A</td>\n",
       "      <td>7</td>\n",
       "      <td>25.99</td>\n",
       "      <td>2023-08-02</td>\n",
       "    </tr>\n",
       "    <tr>\n",
       "      <th>3</th>\n",
       "      <td>Product C</td>\n",
       "      <td>10</td>\n",
       "      <td>0.00</td>\n",
       "      <td>2023-08-02</td>\n",
       "    </tr>\n",
       "    <tr>\n",
       "      <th>4</th>\n",
       "      <td>Product B</td>\n",
       "      <td>8</td>\n",
       "      <td>12.49</td>\n",
       "      <td>2023-08-03</td>\n",
       "    </tr>\n",
       "    <tr>\n",
       "      <th>5</th>\n",
       "      <td>Product A</td>\n",
       "      <td>12</td>\n",
       "      <td>25.99</td>\n",
       "      <td>2023-08-03</td>\n",
       "    </tr>\n",
       "    <tr>\n",
       "      <th>6</th>\n",
       "      <td>Product C</td>\n",
       "      <td>10</td>\n",
       "      <td>0.00</td>\n",
       "      <td>2023-08-04</td>\n",
       "    </tr>\n",
       "  </tbody>\n",
       "</table>\n",
       "</div>"
      ],
      "text/plain": [
       "     Product  Quantity   Cost        Date\n",
       "0  Product A        10  25.99  2023-08-01\n",
       "1  Product B         6  12.49  2023-08-01\n",
       "2  Product A         7  25.99  2023-08-02\n",
       "3  Product C        10   0.00  2023-08-02\n",
       "4  Product B         8  12.49  2023-08-03\n",
       "5  Product A        12  25.99  2023-08-03\n",
       "6  Product C        10   0.00  2023-08-04"
      ]
     },
     "execution_count": 216,
     "metadata": {},
     "output_type": "execute_result"
    }
   ],
   "source": [
    "# UPDATE <> SET <> = <> WHERE <> = <>;\n",
    "df.at[1,'Quantity'] = 6\n",
    "df.loc[df['Product'] == 'Product C', 'Quantity'] = 5\n",
    "# UPDATE <> SET <> = <>, <> = <> WHERE <> < <>;\n",
    "df.loc[df['Quantity'] < 6 , ['Quantity', 'Cost']] = [10, 0]\n",
    "df"
   ]
  },
  {
   "cell_type": "code",
   "execution_count": 217,
   "metadata": {},
   "outputs": [
    {
     "name": "stdout",
     "output_type": "stream",
     "text": [
      "   Quantity   Cost\n",
      "0        10  25.99\n",
      "1         6  12.49\n",
      "2         7  25.99\n",
      "3        10   0.00\n",
      "4         8  12.49\n",
      "5        12  25.99\n",
      "6        10   0.00\n",
      "   Quantity   Cost\n",
      "0        10  25.99\n",
      "1         6  12.49\n",
      "2         7  25.99\n",
      "3        10   0.00\n",
      "4         8  12.49\n",
      "5        12  25.99\n",
      "6        10   0.00\n",
      "   Quantity   Cost\n",
      "0        10  25.99\n",
      "1         6  12.49\n",
      "2         7  25.99\n",
      "3        10   0.00\n",
      "4         8  12.49\n",
      "5        12  25.99\n",
      "6        10   0.00\n"
     ]
    },
    {
     "data": {
      "text/html": [
       "<div>\n",
       "<style scoped>\n",
       "    .dataframe tbody tr th:only-of-type {\n",
       "        vertical-align: middle;\n",
       "    }\n",
       "\n",
       "    .dataframe tbody tr th {\n",
       "        vertical-align: top;\n",
       "    }\n",
       "\n",
       "    .dataframe thead th {\n",
       "        text-align: right;\n",
       "    }\n",
       "</style>\n",
       "<table border=\"1\" class=\"dataframe\">\n",
       "  <thead>\n",
       "    <tr style=\"text-align: right;\">\n",
       "      <th></th>\n",
       "      <th>Product</th>\n",
       "      <th>Quantity</th>\n",
       "      <th>Cost</th>\n",
       "    </tr>\n",
       "  </thead>\n",
       "  <tbody>\n",
       "    <tr>\n",
       "      <th>1</th>\n",
       "      <td>Product B</td>\n",
       "      <td>6</td>\n",
       "      <td>12.49</td>\n",
       "    </tr>\n",
       "    <tr>\n",
       "      <th>2</th>\n",
       "      <td>Product A</td>\n",
       "      <td>7</td>\n",
       "      <td>25.99</td>\n",
       "    </tr>\n",
       "  </tbody>\n",
       "</table>\n",
       "</div>"
      ],
      "text/plain": [
       "     Product  Quantity   Cost\n",
       "1  Product B         6  12.49\n",
       "2  Product A         7  25.99"
      ]
     },
     "execution_count": 217,
     "metadata": {},
     "output_type": "execute_result"
    }
   ],
   "source": [
    "# SELECT Quantity, Cost FROM klm;\n",
    "print(df[['Quantity', 'Cost']])\n",
    "print(df.loc[[True] * df.shape[0], ['Quantity', 'Cost']])\n",
    "print(df.loc[:, ['Quantity', 'Cost']])\n",
    "# SELECT Product, Quantity, Cost FROM klm WHERE Quantity < 8;\n",
    "df.loc[df['Quantity'] < 8, ['Product', 'Quantity', 'Cost']]"
   ]
  },
  {
   "cell_type": "code",
   "execution_count": 218,
   "metadata": {},
   "outputs": [
    {
     "name": "stdout",
     "output_type": "stream",
     "text": [
      "102.94999999999999\n",
      "14.707142857142856\n",
      "0.0\n",
      "25.99\n",
      "7\n",
      "11.72134906098798\n",
      "sum      102.950000\n",
      "mean      14.707143\n",
      "min        0.000000\n",
      "max       25.990000\n",
      "count      7.000000\n",
      "std       11.721349\n",
      "Name: Cost, dtype: float64\n",
      "     Product  Quantity   Cost                            Date\n",
      "0  Product A        29  77.97  2023-08-012023-08-022023-08-03\n",
      "1  Product B        14  24.98            2023-08-012023-08-03\n",
      "2  Product C        20   0.00            2023-08-022023-08-04\n"
     ]
    }
   ],
   "source": [
    "# AGGREGATE FUNCTIONS\n",
    "# SELECT SUM(Quantity) FROM klm;\n",
    "print(df['Cost'].sum())\n",
    "print(df['Cost'].mean())\n",
    "print(df['Cost'].min())\n",
    "print(df['Cost'].max())\n",
    "print(df['Cost'].count())\n",
    "print(df['Cost'].std())\n",
    "print(df['Cost'].agg(['sum', 'mean', 'min', 'max', 'count', 'std']))\n",
    "# SELECT SUM(*) FROM klm GROUP BY Product;\n",
    "print(df.groupby('Product').sum().reset_index())"
   ]
  },
  {
   "cell_type": "code",
   "execution_count": 219,
   "metadata": {},
   "outputs": [
    {
     "name": "stdout",
     "output_type": "stream",
     "text": [
      "Product A\n",
      "Product A\n",
      "   Quantity   Cost\n",
      "0        10  25.99\n",
      "1         6  12.49\n",
      "   Quantity   Cost\n",
      "0        10  25.99\n",
      "1         6  12.49\n"
     ]
    }
   ],
   "source": [
    "# loc vs iloc\n",
    "print(df.iloc[0, 0])\n",
    "print(df.loc[0,'Product'])\n",
    "print(df.iloc[[0, 1], [1, 2]])\n",
    "print(df.loc[[0, 1], ['Quantity', 'Cost']])"
   ]
  },
  {
   "cell_type": "code",
   "execution_count": 220,
   "metadata": {},
   "outputs": [],
   "source": [
    "# INSERT INTO klm (<>, <>) VALUES(<>, <>);\n",
    "temp = pd.DataFrame([['Product A', 2, 8.23, '2023-08-02']], columns = ['Product', 'Quantity', 'Cost', 'Date'])\n",
    "df = pd.concat([df, temp], ignore_index= True)"
   ]
  },
  {
   "cell_type": "code",
   "execution_count": 221,
   "metadata": {},
   "outputs": [
    {
     "name": "stdout",
     "output_type": "stream",
     "text": [
      "     Product  Quantity   Cost        Date\n",
      "0  Product A        10  25.99  2023-08-01\n",
      "1  Product B         6  12.49  2023-08-01\n",
      "2  Product A         7  25.99  2023-08-02\n",
      "4  Product B         8  12.49  2023-08-03\n",
      "5  Product A        12  25.99  2023-08-03\n",
      "6  Product C        10   0.00  2023-08-04\n",
      "7  Product A         2   8.23  2023-08-02\n",
      "           Quantity   Cost        Date\n",
      "Product                               \n",
      "Product A        10  25.99  2023-08-01\n",
      "Product B         6  12.49  2023-08-01\n",
      "Product A         7  25.99  2023-08-02\n",
      "Product C        10   0.00  2023-08-02\n",
      "Product B         8  12.49  2023-08-03\n",
      "Product A        12  25.99  2023-08-03\n",
      "Product C        10   0.00  2023-08-04\n",
      "Product A         2   8.23  2023-08-02\n",
      "           Quantity   Cost        Date\n",
      "Product                               \n",
      "Product B         6  12.49  2023-08-01\n",
      "Product C        10   0.00  2023-08-02\n",
      "Product B         8  12.49  2023-08-03\n",
      "Product C        10   0.00  2023-08-04\n",
      "           Quantity  Cost        Date\n",
      "Product                              \n",
      "Product C        10   0.0  2023-08-02\n",
      "Product C        10   0.0  2023-08-04\n",
      "     Product  Quantity  Cost        Date\n",
      "0  Product C        10   0.0  2023-08-02\n",
      "1  Product C        10   0.0  2023-08-04\n"
     ]
    }
   ],
   "source": [
    "# DELETE FROM klm WHERE id = 8;\n",
    "df1 = df.copy(deep = True)\n",
    "df1.drop(3, inplace = True)\n",
    "print(df1)\n",
    "df1 = df.set_index('Product')\n",
    "print(df1)\n",
    "df1.drop('Product A', inplace=True)\n",
    "print(df1)\n",
    "df1.drop(df1.index[2], inplace=True)\n",
    "print(df1)\n",
    "df1.reset_index(inplace = True)\n",
    "print(df1)"
   ]
  },
  {
   "cell_type": "code",
   "execution_count": null,
   "metadata": {},
   "outputs": [],
   "source": []
  }
 ],
 "metadata": {
  "kernelspec": {
   "display_name": "vsem",
   "language": "python",
   "name": "vsem"
  },
  "language_info": {
   "codemirror_mode": {
    "name": "ipython",
    "version": 3
   },
   "file_extension": ".py",
   "mimetype": "text/x-python",
   "name": "python",
   "nbconvert_exporter": "python",
   "pygments_lexer": "ipython3",
   "version": "3.11.5"
  }
 },
 "nbformat": 4,
 "nbformat_minor": 2
}
